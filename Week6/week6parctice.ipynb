{
 "cells": [
  {
   "cell_type": "code",
   "execution_count": null,
   "metadata": {
    "collapsed": true
   },
   "outputs": [],
   "source": [
    "import os\n",
    "path = \"C:/think/desktop/python/books\"\n",
    "files = os.listdir(path)\n",
    "name_list=[]\n",
    "len_list=[]\n",
    "for filename in files:\n",
    "    name_list.append(filename)\n",
    "    fn='C:/think/desktop/python/books'+filename\n",
    "    f=open(fn,'r')\n",
    "    length=f.read()\n",
    "    len_list.append(len(length))\n",
    "    f.close()\n",
    "d=dict(zip(name_list,len_list))\n",
    "print(d)\n"
   ]
  },
  {
   "cell_type": "code",
   "execution_count": null,
   "metadata": {
    "collapsed": true
   },
   "outputs": [],
   "source": [
    "import json\n",
    "json_dict=json.dumps(d)\n",
    "with open(\"C:/think/desktop/python/books/json_dict\", \"w\") as f:\n",
    "    json.dump(json_dict, f)\n",
    "import pickle\n",
    "string = pickle.dumps(d, 1)\n",
    "with open(\"C:/think/desktop/python/books/d.pkl\", \"wb\") as f:\n",
    "    pickle.dump(string, f)"
   ]
  }
 ],
 "metadata": {
  "kernelspec": {
   "display_name": "Python 3",
   "language": "python",
   "name": "python3"
  },
  "language_info": {
   "codemirror_mode": {
    "name": "ipython",
    "version": 3
   },
   "file_extension": ".py",
   "mimetype": "text/x-python",
   "name": "python",
   "nbconvert_exporter": "python",
   "pygments_lexer": "ipython3",
   "version": "3.6.3"
  }
 },
 "nbformat": 4,
 "nbformat_minor": 2
}
